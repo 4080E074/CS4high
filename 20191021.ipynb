{
  "nbformat": 4,
  "nbformat_minor": 0,
  "metadata": {
    "colab": {
      "name": "20191021.ipynb",
      "provenance": [],
      "collapsed_sections": [],
      "include_colab_link": true
    },
    "kernelspec": {
      "name": "python3",
      "display_name": "Python 3"
    }
  },
  "cells": [
    {
      "cell_type": "markdown",
      "metadata": {
        "id": "view-in-github",
        "colab_type": "text"
      },
      "source": [
        "<a href=\"https://colab.research.google.com/github/4080E074/CS4high/blob/master/20191021.ipynb\" target=\"_parent\"><img src=\"https://colab.research.google.com/assets/colab-badge.svg\" alt=\"Open In Colab\"/></a>"
      ]
    },
    {
      "cell_type": "markdown",
      "metadata": {
        "id": "GRdE4HOz8qKg",
        "colab_type": "text"
      },
      "source": [
        ""
      ]
    },
    {
      "cell_type": "code",
      "metadata": {
        "id": "DjS-B7J_2u6H",
        "colab_type": "code",
        "colab": {
          "base_uri": "https://localhost:8080/",
          "height": 34
        },
        "outputId": "abec8d77-115f-4b8c-ab53-00453c575cf4"
      },
      "source": [
        "#1+2+3+4...+100 for\n",
        "a=0\n",
        "for index in range(1,101):\n",
        "  a = a+index \n",
        "print(a)\n",
        "    "
      ],
      "execution_count": 26,
      "outputs": [
        {
          "output_type": "stream",
          "text": [
            "5050\n"
          ],
          "name": "stdout"
        }
      ]
    },
    {
      "cell_type": "code",
      "metadata": {
        "id": "-j57EDrPKlFS",
        "colab_type": "code",
        "colab": {}
      },
      "source": [
        "#1+3+5...+99 for\n",
        "a=0\n",
        "for index in range(1,100,2):\n",
        "  a = a+index \n",
        "print(a)"
      ],
      "execution_count": 0,
      "outputs": []
    },
    {
      "cell_type": "code",
      "metadata": {
        "id": "xqfI5DRlKlRS",
        "colab_type": "code",
        "colab": {
          "base_uri": "https://localhost:8080/",
          "height": 34
        },
        "outputId": "59d835f6-fec3-41dc-899d-a6f3535e51b0"
      },
      "source": [
        "#2+4+6+8...+100 for\n",
        "a=0\n",
        "for index in range(2,101,2):\n",
        "  a = a+index \n",
        "print(a)"
      ],
      "execution_count": 38,
      "outputs": [
        {
          "output_type": "stream",
          "text": [
            "2550\n"
          ],
          "name": "stdout"
        }
      ]
    },
    {
      "cell_type": "code",
      "metadata": {
        "id": "tEYmQ6aiKx2S",
        "colab_type": "code",
        "colab": {}
      },
      "source": [
        "#1*3*5*7...*99 for\n",
        "a=1\n",
        "for index in range(1,100,2):\n",
        "  a = a*index \n",
        "print(a)"
      ],
      "execution_count": 0,
      "outputs": []
    },
    {
      "cell_type": "code",
      "metadata": {
        "id": "jbrThQpcJETr",
        "colab_type": "code",
        "colab": {
          "base_uri": "https://localhost:8080/",
          "height": 34
        },
        "outputId": "78f00545-78c0-4212-92fa-c17e154e415b"
      },
      "source": [
        "#1+2+3+4...+100 while\n",
        "a=0\n",
        "index=0\n",
        "while index <100:\n",
        "    index+=1\n",
        "    a = a+index\n",
        "print(a)"
      ],
      "execution_count": 31,
      "outputs": [
        {
          "output_type": "stream",
          "text": [
            "5050\n"
          ],
          "name": "stdout"
        }
      ]
    },
    {
      "cell_type": "code",
      "metadata": {
        "id": "ZSaNgK5QJ8XS",
        "colab_type": "code",
        "colab": {
          "base_uri": "https://localhost:8080/",
          "height": 34
        },
        "outputId": "836ffbca-0e15-46d2-e971-100b7529e54d"
      },
      "source": [
        "#1+3+5...+99 while\n",
        "a=0\n",
        "index=1\n",
        "while index <100:\n",
        "    a = a+index\n",
        "    index+=2\n",
        "print(a)"
      ],
      "execution_count": 36,
      "outputs": [
        {
          "output_type": "stream",
          "text": [
            "2500\n"
          ],
          "name": "stdout"
        }
      ]
    },
    {
      "cell_type": "code",
      "metadata": {
        "id": "PhV4MkYBK2eK",
        "colab_type": "code",
        "colab": {
          "base_uri": "https://localhost:8080/",
          "height": 34
        },
        "outputId": "85271a19-8026-4cf2-8ca9-906ff4bbab22"
      },
      "source": [
        "#2+4+6+8...+100 while\n",
        "a=0\n",
        "index=0\n",
        "while index <100:\n",
        "    index+=2\n",
        "    a = a+index\n",
        "print(a)"
      ],
      "execution_count": 37,
      "outputs": [
        {
          "output_type": "stream",
          "text": [
            "2550\n"
          ],
          "name": "stdout"
        }
      ]
    },
    {
      "cell_type": "code",
      "metadata": {
        "id": "B57p4KfDLD1i",
        "colab_type": "code",
        "colab": {
          "base_uri": "https://localhost:8080/",
          "height": 34
        },
        "outputId": "bb9212a7-5f1d-4ccd-ac3a-a3ddbe5783f3"
      },
      "source": [
        "#1*3*5*7...*99 while\n",
        "a=1\n",
        "index=1\n",
        "while index <100:\n",
        "    a = a*index\n",
        "    index+=2\n",
        "print(a)"
      ],
      "execution_count": 39,
      "outputs": [
        {
          "output_type": "stream",
          "text": [
            "2725392139750729502980713245400918633290796330545803413734328823443106201171875\n"
          ],
          "name": "stdout"
        }
      ]
    },
    {
      "cell_type": "code",
      "metadata": {
        "id": "KjQQxg7H6x5e",
        "colab_type": "code",
        "colab": {
          "base_uri": "https://localhost:8080/",
          "height": 34
        },
        "outputId": "93bb7697-fb31-4f5d-e2f5-80cd93d3f326"
      },
      "source": [
        "print(\"hello!\")"
      ],
      "execution_count": 12,
      "outputs": [
        {
          "output_type": "stream",
          "text": [
            "hello!\n"
          ],
          "name": "stdout"
        }
      ]
    },
    {
      "cell_type": "code",
      "metadata": {
        "id": "EVeHVVC_8A5l",
        "colab_type": "code",
        "colab": {
          "base_uri": "https://localhost:8080/",
          "height": 34
        },
        "outputId": "352e2e29-487e-4889-f6e6-01e8b7a43278"
      },
      "source": [
        "print(3*2*(17-2.1))"
      ],
      "execution_count": 13,
      "outputs": [
        {
          "output_type": "stream",
          "text": [
            "89.4\n"
          ],
          "name": "stdout"
        }
      ]
    },
    {
      "cell_type": "code",
      "metadata": {
        "id": "rO4E46v58QpF",
        "colab_type": "code",
        "colab": {
          "base_uri": "https://localhost:8080/",
          "height": 34
        },
        "outputId": "e9ea66cd-83ae-40f7-a81d-00e1d26253c5"
      },
      "source": [
        "#str.replace(old, new[, max])\n",
        "word = \"art\"\n",
        "print(word.replace(\"r\", \"n\"))"
      ],
      "execution_count": 14,
      "outputs": [
        {
          "output_type": "stream",
          "text": [
            "ant\n"
          ],
          "name": "stdout"
        }
      ]
    },
    {
      "cell_type": "code",
      "metadata": {
        "id": "48MA4Qp49-Yn",
        "colab_type": "code",
        "colab": {
          "base_uri": "https://localhost:8080/",
          "height": 51
        },
        "outputId": "3d471400-42e8-45a4-8fab-737c8adde8ea"
      },
      "source": [
        "a= 2\n",
        "b= 3\n",
        "c = a/b\n",
        "print(a, \"/\", b, \"=\", c) \n",
        "add = str(a)+\"/\"+str(b)+\"=\"+str(c)\n",
        "print(add)"
      ],
      "execution_count": 15,
      "outputs": [
        {
          "output_type": "stream",
          "text": [
            "2 / 3 = 0.6666666666666666\n",
            "2/3=0.6666666666666666\n"
          ],
          "name": "stdout"
        }
      ]
    },
    {
      "cell_type": "code",
      "metadata": {
        "id": "de8r43Us-G5N",
        "colab_type": "code",
        "colab": {
          "base_uri": "https://localhost:8080/",
          "height": 51
        },
        "outputId": "77526618-543f-4cc4-bb01-5585f375998b"
      },
      "source": [
        "input(\"How are you?\")\n",
        "print(\"Good, thanks.\")"
      ],
      "execution_count": 17,
      "outputs": [
        {
          "output_type": "stream",
          "text": [
            "How are you?1\n",
            "Good, thanks.\n"
          ],
          "name": "stdout"
        }
      ]
    },
    {
      "cell_type": "code",
      "metadata": {
        "id": "uQ61EnWh-Rn1",
        "colab_type": "code",
        "colab": {
          "base_uri": "https://localhost:8080/",
          "height": 68
        },
        "outputId": "55101d74-3394-45e3-fff4-d425bef4b77d"
      },
      "source": [
        "user_place = input(\"Where do you live? \")\n",
        "text = user_place.capitalize()+ \"!\"\n",
        "print(text) \n",
        "print(\"I hear it's nice there!\") "
      ],
      "execution_count": 18,
      "outputs": [
        {
          "output_type": "stream",
          "text": [
            "Where do you live? Taiwan\n",
            "Taiwan!\n",
            "I hear it's nice there!\n"
          ],
          "name": "stdout"
        }
      ]
    }
  ]
}